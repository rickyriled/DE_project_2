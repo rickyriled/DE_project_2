{
 "cells": [
  {
   "cell_type": "code",
   "execution_count": 1,
   "id": "8fd60210",
   "metadata": {},
   "outputs": [],
   "source": [
    "import fbchat\n",
    "from fbchat import Client\n",
    "from fbchat.models import *"
   ]
  },
  {
   "cell_type": "markdown",
   "id": "2cab5214",
   "metadata": {},
   "source": [
    "\n",
    "\n",
    "fbchat._util.USER_AGENTS = ['Mozilla/5.0 (Macintosh; Intel Mac OS X 10_15_5) AppleWebKit/537.36 (KHTML, like Gecko) Chrome/105.0.0.0 Safari/537.36']\n",
    "\n",
    "\n",
    "fbchat._state.FB_DTSG_REGEX = re.compile(r'\"fb_dtsg\",\"value\":\"(.*?)\"')"
   ]
  },
  {
   "cell_type": "code",
   "execution_count": 2,
   "id": "04e9a1c4",
   "metadata": {
    "scrolled": false
   },
   "outputs": [
    {
     "name": "stderr",
     "output_type": "stream",
     "text": [
      "Logging in vokeci3589@imdutex.com...\n",
      "Login of vokeci3589@imdutex.com successful.\n"
     ]
    }
   ],
   "source": [
    "client = Client('vokeci3589@imdutex.com', 'Purpleraincoat12345678910!')"
   ]
  },
  {
   "cell_type": "code",
   "execution_count": 3,
   "id": "d1a3c91e",
   "metadata": {},
   "outputs": [
    {
     "data": {
      "text/plain": [
       "re.compile(r'\"DTSGInitialData\",\\[\\],{\"token\":\"(.*?)\"', re.UNICODE)"
      ]
     },
     "execution_count": 3,
     "metadata": {},
     "output_type": "execute_result"
    }
   ],
   "source": [
    "fbchat._state.FB_DTSG_REGEX"
   ]
  },
  {
   "cell_type": "code",
   "execution_count": 13,
   "id": "a7ea2b26",
   "metadata": {},
   "outputs": [
    {
     "name": "stdout",
     "output_type": "stream",
     "text": [
      "Own id: 100002013785210\n"
     ]
    },
    {
     "data": {
      "text/plain": [
       "'mid.$cAABa84iCLHqKD4gA6GD3kK3ZZXgD'"
      ]
     },
     "execution_count": 13,
     "metadata": {},
     "output_type": "execute_result"
    }
   ],
   "source": [
    "print(\"Own id: {}\".format(client.uid))\n",
    "client.send(Message(text=\"Hi me!\"), thread_id=client.uid, thread_type=ThreadType.USER)\n"
   ]
  },
  {
   "cell_type": "code",
   "execution_count": 11,
   "id": "7397b661",
   "metadata": {},
   "outputs": [],
   "source": [
    "thread_id = \"2471161409593709\"\n",
    "thread_type = ThreadType.GROUP\n"
   ]
  },
  {
   "cell_type": "code",
   "execution_count": 12,
   "id": "271910fe",
   "metadata": {},
   "outputs": [
    {
     "data": {
      "text/plain": [
       "'mid.$gAAjHghoAYW2KD4UKxmD3j_A1mHrd'"
      ]
     },
     "execution_count": 12,
     "metadata": {},
     "output_type": "execute_result"
    }
   ],
   "source": [
    "client.send(Message(text=\"lol @ hobgoblin\"), thread_id=thread_id, thread_type=thread_type)"
   ]
  },
  {
   "cell_type": "code",
   "execution_count": 14,
   "id": "ecf46d6b",
   "metadata": {},
   "outputs": [],
   "source": [
    "import requests\n",
    "url=\"https://catfact.ninja/fact\"\n",
    "response = requests.get(url)\n",
    "messaging_text=response.json()['fact']"
   ]
  },
  {
   "cell_type": "code",
   "execution_count": 15,
   "id": "add05d6d",
   "metadata": {},
   "outputs": [
    {
     "data": {
      "text/plain": [
       "'A cat will tremble or shiver when it is extreme pain.'"
      ]
     },
     "execution_count": 15,
     "metadata": {},
     "output_type": "execute_result"
    }
   ],
   "source": [
    "messaging_text"
   ]
  },
  {
   "cell_type": "code",
   "execution_count": 28,
   "id": "d7ad7947",
   "metadata": {},
   "outputs": [],
   "source": [
    "#client.reactToMessage(\"<message id>\", MessageReaction.LOVE)\n",
    "\n",
    "test_mess=client.fetchThreadMessages(thread_id=\"100002013785210\", limit=4)"
   ]
  },
  {
   "cell_type": "code",
   "execution_count": 26,
   "id": "0947c8de",
   "metadata": {},
   "outputs": [
    {
     "data": {
      "text/plain": [
       "'Hi me!'"
      ]
     },
     "execution_count": 26,
     "metadata": {},
     "output_type": "execute_result"
    }
   ],
   "source": [
    "test_mess[0].text"
   ]
  },
  {
   "cell_type": "code",
   "execution_count": 35,
   "id": "cd4e3d87",
   "metadata": {},
   "outputs": [
    {
     "data": {
      "text/plain": [
       "Message(text='Hi me!', mentions=[], emoji_size=None, uid='mid.$cAABa84iCLHqKD4gA6GD3kK3ZZXgD', author='100002013785210', timestamp='1665881258216', is_read=True, read_by=['100002013785210'], reactions={}, sticker=None, attachments=[], quick_replies=[], unsent=False, reply_to_id=None, replied_to=None, forwarded=False)"
      ]
     },
     "execution_count": 35,
     "metadata": {},
     "output_type": "execute_result"
    }
   ],
   "source": [
    "test_mess[0]"
   ]
  },
  {
   "cell_type": "code",
   "execution_count": 36,
   "id": "8783d940",
   "metadata": {},
   "outputs": [],
   "source": [
    "tm=client.fetchThreadMessages(thread_id=\"100002013785210\", limit=1)[0]\n",
    "tmts=tm.timestamp\n",
    "tmtx=tm.text"
   ]
  },
  {
   "cell_type": "code",
   "execution_count": 50,
   "id": "67fb9e3a",
   "metadata": {},
   "outputs": [],
   "source": [
    "import requests\n",
    "import time"
   ]
  },
  {
   "cell_type": "code",
   "execution_count": null,
   "id": "d6434e92",
   "metadata": {},
   "outputs": [
    {
     "name": "stdout",
     "output_type": "stream",
     "text": [
      "Like humans, cats tend to favor one paw over another\n",
      "Gross\n",
      "Ricky why is your bot a sex freak\n",
      "🥲\n",
      "🗿\n",
      "Uhm\n",
      "None\n",
      "I don’t like that he reads our messages\n",
      "Earlier I got excited and thought andrea was back\n",
      "Why is he typing\n",
      "Same\n",
      "And yeah what\n",
      "Stop it\n",
      "i dont like you're mustache, boat ho\n",
      "None\n",
      "Electric chair\n",
      "wait who is it\n",
      "i thought it was andrea\n",
      "naw its a bot\n",
      "Hey boy\n",
      "It’s Ricky’s Frankenstein monster\n",
      "so i ricky can mssg on it still too\n",
      "None\n",
      "like I have its chat window open\n",
      "\n",
      "The chat bot reading ever message we’ve ever sent\n",
      "HAHAH\n",
      "what the fuck\n",
      "\n",
      "Ricky weren’t you gonna make a bot that tried to be the groupchat\n",
      "Like bots of us\n",
      "i was thinking about it still\n",
      "it'd be fun\n",
      "I th ink you should\n",
      "We can just never have a conversation again we just have to read the bot. Chat\n",
      "theres a few more things I wanna do w/ this first, i'm trying to make some portfolio proj stuff\n",
      "None\n",
      "but that would be rlly fun if yall our cool w/ me using all the old chat data\n",
      "None\n",
      "I consent\n",
      "cool send all ur SSN\n",
      "Haha weird but ok\n",
      "147-52-1182\n",
      "naw u didn't\n",
      "thats fakes right\n",
      "Not chat bot\n",
      "I believe in you\n",
      "I will provide all of my personal information to chat bot\n",
      "lol\n",
      "yeah people say I just have one of those faces\n",
      "\n",
      "easy to trust\n",
      "None\n",
      "we do need a bot we need transcripts of what we say\n",
      "actually we don’t\n"
     ]
    }
   ],
   "source": [
    "tmts_old='0'\n",
    "i=0\n",
    "\n",
    "thread_id = \"2471161409593709\"\n",
    "thread_type = ThreadType.GROUP\n",
    "\n",
    "while client.isLoggedIn():\n",
    "    time.sleep(2)\n",
    "    tm=client.fetchThreadMessages(thread_id=thread_id, limit=1)[0]\n",
    "    tmts=tm.timestamp\n",
    "    tmtx=tm.text\n",
    "    \n",
    "    if tmts != tmts_old:\n",
    "        tmts_old=tmts\n",
    "        \n",
    "        if tmtx=='ey bot, spit some facts':\n",
    "            \n",
    "            rand_test=random.uniform(0,1)\n",
    "            \n",
    "            if (rand_test>0.05):\n",
    "                url=\"https://catfact.ninja/fact\"\n",
    "                response = requests.get(url)\n",
    "                messaging_text=response.json()['fact']\n",
    "                client \\\n",
    "                    .send(Message(text=messaging_text), \n",
    "                          thread_id=thread_id, \n",
    "                          thread_type=thread_type)\n",
    "\n",
    "                tm=client.fetchThreadMessages(thread_id=thread_id, limit=1)[0]\n",
    "                tmts_old=tm.timestamp\n",
    "                \n",
    "                i=i+1\n",
    "            \n",
    "            else:\n",
    "                print(i)\n",
    "                i=0\n",
    "\n",
    "                file1 = open('test.txt', 'r')\n",
    "                Lines = file1.readlines()\n",
    "                count = 1          \n",
    "\n",
    "                for line in Lines:\n",
    "                    if (2*(count//2) != (2*(count//2)+count%2)):\n",
    "\n",
    "                        client.send(Message(text=line.strip()), thread_id=thread_id, thread_type=thread_type)\n",
    "                        time.sleep(2.2)\n",
    "                    else:\n",
    "                        print('skip')\n",
    "\n",
    "                    count=count+1\n",
    "\n",
    "                tm=client.fetchThreadMessages(thread_id=thread_id, limit=1)[0]\n",
    "                tmts_old=tm.timestamp   \n",
    "                \n",
    "        else:\n",
    "            print(tmtx)"
   ]
  },
  {
   "cell_type": "code",
   "execution_count": null,
   "id": "e2e4b80f",
   "metadata": {},
   "outputs": [],
   "source": []
  }
 ],
 "metadata": {
  "kernelspec": {
   "display_name": "summer",
   "language": "python",
   "name": "summer"
  },
  "language_info": {
   "codemirror_mode": {
    "name": "ipython",
    "version": 3
   },
   "file_extension": ".py",
   "mimetype": "text/x-python",
   "name": "python",
   "nbconvert_exporter": "python",
   "pygments_lexer": "ipython3",
   "version": "3.8.10"
  }
 },
 "nbformat": 4,
 "nbformat_minor": 5
}
