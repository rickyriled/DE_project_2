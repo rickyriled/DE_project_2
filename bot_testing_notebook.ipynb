{
 "cells": [
  {
   "cell_type": "code",
   "execution_count": 2,
   "id": "8fd60210",
   "metadata": {},
   "outputs": [],
   "source": [
    "import fbchat\n",
    "from fbchat import Client\n",
    "from fbchat.models import *\n",
    "import requests\n",
    "import time\n",
    "import pandas as pd"
   ]
  },
  {
   "cell_type": "markdown",
   "id": "e66d55f7",
   "metadata": {},
   "source": [
    "remember to use the 'summer' kernel, otherwise the code wont work\n",
    "\n",
    "1. fbchat._util.USER_AGENTS = ['Mozilla/5.0 (Macintosh; Intel Mac OS X 10_15_5) AppleWebKit/537.36 (KHTML, like Gecko) Chrome/105.0.0.0 Safari/537.36']\n",
    "\n",
    "\n",
    "2. fbchat._state.FB_DTSG_REGEX = re.compile(r'\"fb_dtsg\",\"value\":\"(.*?)\"')"
   ]
  },
  {
   "cell_type": "code",
   "execution_count": 2,
   "id": "04e9a1c4",
   "metadata": {
    "scrolled": false
   },
   "outputs": [
    {
     "name": "stderr",
     "output_type": "stream",
     "text": [
      "Logging in vokeci3589@imdutex.com...\n",
      "Login of vokeci3589@imdutex.com successful.\n"
     ]
    }
   ],
   "source": [
    "client = Client('vokeci3589@imdutex.com', 'Purpleraincoat12345678910!')"
   ]
  },
  {
   "cell_type": "code",
   "execution_count": 4,
   "id": "a7ea2b26",
   "metadata": {},
   "outputs": [
    {
     "name": "stdout",
     "output_type": "stream",
     "text": [
      "Own id: 100087227280483\n"
     ]
    },
    {
     "data": {
      "text/plain": [
       "'mid.$cAABbB1-g7GOKKTs67mD9_XuHZnm2'"
      ]
     },
     "execution_count": 4,
     "metadata": {},
     "output_type": "execute_result"
    }
   ],
   "source": [
    "#get uid, send message to yourself\n",
    "print(\"Own id: {}\".format(client.uid))\n",
    "client.send(Message(text=\"Hi me!\"), thread_id=client.uid, thread_type=ThreadType.USER)\n"
   ]
  },
  {
   "cell_type": "code",
   "execution_count": 6,
   "id": "4a07b684",
   "metadata": {},
   "outputs": [
    {
     "data": {
      "text/plain": [
       "False"
      ]
     },
     "execution_count": 6,
     "metadata": {},
     "output_type": "execute_result"
    }
   ],
   "source": [
    "client.isLoggedIn()"
   ]
  },
  {
   "cell_type": "code",
   "execution_count": 11,
   "id": "7397b661",
   "metadata": {},
   "outputs": [],
   "source": [
    "#send a test message to the specified thread/group type\n",
    "thread_id = \"2471161409593709\"\n",
    "thread_type = ThreadType.GROUP\n",
    "\n",
    "client.send(Message(text=\"lol @ hobgoblin\"), thread_id=thread_id, thread_type=thread_type)"
   ]
  },
  {
   "cell_type": "code",
   "execution_count": 9,
   "id": "d7ad7947",
   "metadata": {},
   "outputs": [],
   "source": [
    "#react to a message/ fetch old messages from the thread\n",
    "#client.reactToMessage(\"<message id>\", MessageReaction.LOVE)\n",
    "\n",
    "test_mess=client.fetchThreadMessages(thread_id=\"100002013785210\", limit=4)"
   ]
  },
  {
   "cell_type": "code",
   "execution_count": 10,
   "id": "cd4e3d87",
   "metadata": {},
   "outputs": [
    {
     "data": {
      "text/plain": [
       "['can', 'you', 'see', 'this']"
      ]
     },
     "execution_count": 10,
     "metadata": {},
     "output_type": "execute_result"
    }
   ],
   "source": [
    "#look at the internals \n",
    "test_mess[0].text.split(\" \")"
   ]
  },
  {
   "cell_type": "code",
   "execution_count": 11,
   "id": "8783d940",
   "metadata": {},
   "outputs": [],
   "source": [
    "tm=client.fetchThreadMessages(thread_id=\"100002013785210\", limit=1)[0]\n",
    "tmts=tm.timestamp\n",
    "tmtx=tm.text"
   ]
  },
  {
   "cell_type": "code",
   "execution_count": 13,
   "id": "baee9cdf",
   "metadata": {},
   "outputs": [
    {
     "data": {
      "text/plain": [
       "'1666236890074'"
      ]
     },
     "execution_count": 13,
     "metadata": {},
     "output_type": "execute_result"
    }
   ],
   "source": [
    "test_mess[0].timestamp"
   ]
  },
  {
   "cell_type": "code",
   "execution_count": 17,
   "id": "7f8a233f",
   "metadata": {},
   "outputs": [
    {
     "name": "stdout",
     "output_type": "stream",
     "text": [
      "dt_object = 2022-10-19 23:34:50.074000\n"
     ]
    }
   ],
   "source": [
    "from datetime import datetime\n",
    "\n",
    "timestamp = float(test_mess[0].timestamp)/1000\n",
    "dt_object = datetime.fromtimestamp(timestamp)\n",
    "\n",
    "print(\"dt_object =\", dt_object)"
   ]
  },
  {
   "cell_type": "code",
   "execution_count": 19,
   "id": "0aff26af",
   "metadata": {},
   "outputs": [
    {
     "data": {
      "text/plain": [
       "'100002013785210'"
      ]
     },
     "execution_count": 19,
     "metadata": {},
     "output_type": "execute_result"
    }
   ],
   "source": [
    "test_mess[0].author"
   ]
  },
  {
   "cell_type": "code",
   "execution_count": 20,
   "id": "cfa7ed00",
   "metadata": {},
   "outputs": [
    {
     "data": {
      "text/plain": [
       "\"you're stepping through the door\""
      ]
     },
     "execution_count": 20,
     "metadata": {},
     "output_type": "execute_result"
    }
   ],
   "source": [
    "test_mess[0].text"
   ]
  },
  {
   "cell_type": "code",
   "execution_count": 29,
   "id": "0b858a69",
   "metadata": {},
   "outputs": [],
   "source": [
    "def get_data(msg):\n",
    "    fb_msg=msg[0]\n",
    "    \n",
    "    timestamp = float(fb_msg.timestamp)/1000\n",
    "    date_time = datetime.fromtimestamp(timestamp)\n",
    "    \n",
    "    user_id = fb_msg.author\n",
    "    \n",
    "    msg_txt = fb_msg.text\n",
    "    \n",
    "    return [str(dt_object), user_id, msg_txt]"
   ]
  },
  {
   "cell_type": "code",
   "execution_count": 30,
   "id": "610a094a",
   "metadata": {
    "collapsed": true
   },
   "outputs": [
    {
     "data": {
      "text/plain": [
       "['2022-10-19 23:34:50.074000',\n",
       " '100002013785210',\n",
       " \"you're stepping through the door\"]"
      ]
     },
     "execution_count": 30,
     "metadata": {},
     "output_type": "execute_result"
    }
   ],
   "source": [
    "message=client.fetchThreadMessages(thread_id=\"100002013785210\", limit=1)\n",
    "get_data(message)"
   ]
  },
  {
   "cell_type": "code",
   "execution_count": 31,
   "id": "91902bd5",
   "metadata": {},
   "outputs": [],
   "source": [
    "tk= { 'test' : get_data(message)}"
   ]
  },
  {
   "cell_type": "code",
   "execution_count": 36,
   "id": "358a0891",
   "metadata": {},
   "outputs": [
    {
     "data": {
      "text/plain": [
       "['2022-10-19 23:34:50.074000', 1]"
      ]
     },
     "execution_count": 36,
     "metadata": {},
     "output_type": "execute_result"
    }
   ],
   "source": [
    "# get time entry \n",
    "datalist=list(tk.values())[0]\n",
    "time=datalist[0]\n",
    "[time, 1]"
   ]
  },
  {
   "cell_type": "code",
   "execution_count": 38,
   "id": "dc6f3066",
   "metadata": {},
   "outputs": [
    {
     "data": {
      "text/plain": [
       "['100002013785210', 1, 5]"
      ]
     },
     "execution_count": 38,
     "metadata": {},
     "output_type": "execute_result"
    }
   ],
   "source": [
    "#get user message entry\n",
    "\n",
    "\n",
    "datalist = list(tk.values())[0]\n",
    "user_ID = datalist[1]\n",
    "msg_len = len(datalist[2].split(\" \"))\n",
    "[user_ID, 1, msg_len]"
   ]
  },
  {
   "cell_type": "code",
   "execution_count": 59,
   "id": "75d40191",
   "metadata": {},
   "outputs": [
    {
     "data": {
      "text/html": [
       "<div>\n",
       "<style scoped>\n",
       "    .dataframe tbody tr th:only-of-type {\n",
       "        vertical-align: middle;\n",
       "    }\n",
       "\n",
       "    .dataframe tbody tr th {\n",
       "        vertical-align: top;\n",
       "    }\n",
       "\n",
       "    .dataframe thead th {\n",
       "        text-align: right;\n",
       "    }\n",
       "</style>\n",
       "<table border=\"1\" class=\"dataframe\">\n",
       "  <thead>\n",
       "    <tr style=\"text-align: right;\">\n",
       "      <th></th>\n",
       "      <th>word</th>\n",
       "      <th>count</th>\n",
       "      <th>time</th>\n",
       "    </tr>\n",
       "  </thead>\n",
       "  <tbody>\n",
       "    <tr>\n",
       "      <th>0</th>\n",
       "      <td>you're</td>\n",
       "      <td>1.0</td>\n",
       "      <td>2022-10-19 23:34:50.074000</td>\n",
       "    </tr>\n",
       "    <tr>\n",
       "      <th>0</th>\n",
       "      <td>stepping</td>\n",
       "      <td>1.0</td>\n",
       "      <td>2022-10-19 23:34:50.074000</td>\n",
       "    </tr>\n",
       "    <tr>\n",
       "      <th>0</th>\n",
       "      <td>through</td>\n",
       "      <td>1.0</td>\n",
       "      <td>2022-10-19 23:34:50.074000</td>\n",
       "    </tr>\n",
       "    <tr>\n",
       "      <th>0</th>\n",
       "      <td>the</td>\n",
       "      <td>1.0</td>\n",
       "      <td>2022-10-19 23:34:50.074000</td>\n",
       "    </tr>\n",
       "    <tr>\n",
       "      <th>0</th>\n",
       "      <td>door</td>\n",
       "      <td>1.0</td>\n",
       "      <td>2022-10-19 23:34:50.074000</td>\n",
       "    </tr>\n",
       "  </tbody>\n",
       "</table>\n",
       "</div>"
      ],
      "text/plain": [
       "       word  count                        time\n",
       "0    you're    1.0  2022-10-19 23:34:50.074000\n",
       "0  stepping    1.0  2022-10-19 23:34:50.074000\n",
       "0   through    1.0  2022-10-19 23:34:50.074000\n",
       "0       the    1.0  2022-10-19 23:34:50.074000\n",
       "0      door    1.0  2022-10-19 23:34:50.074000"
      ]
     },
     "execution_count": 59,
     "metadata": {},
     "output_type": "execute_result"
    }
   ],
   "source": [
    "#get word count entry\n",
    "datalist = list(tk.values())[0]\n",
    "words = datalist[2].split(\" \")\n",
    "time=datalist[0]\n",
    "\n",
    "data={'word':[], 'count' : [], 'time' : []}\n",
    "df2=pd.DataFrame(data)\n",
    "\n",
    "\n",
    "for entry in words:\n",
    "    df1=pd.DataFrame({'word':[entry], 'count' : [1], 'time' : [time]})\n",
    "    df2=df2.append(df1)\n",
    "    \n",
    "df2\n"
   ]
  },
  {
   "cell_type": "code",
   "execution_count": 5,
   "id": "3a580359",
   "metadata": {},
   "outputs": [],
   "source": [
    "data={'time':[], 'count' : []}\n",
    "df2=pd.DataFrame(data)\n",
    "\n",
    "df2.to_csv('time_table.csv', index=False)"
   ]
  },
  {
   "cell_type": "code",
   "execution_count": 3,
   "id": "c3877949",
   "metadata": {},
   "outputs": [],
   "source": [
    "data={'user_id':[], 'count' : [], 'msg_len' : []}\n",
    "df2=pd.DataFrame(data)\n",
    "\n",
    "df2.to_csv('user_msg_table.csv', index=False)"
   ]
  },
  {
   "cell_type": "code",
   "execution_count": 4,
   "id": "6741bab0",
   "metadata": {},
   "outputs": [],
   "source": [
    "data={'word':[], 'count' : [], 'time' : []}\n",
    "df2=pd.DataFrame(data)\n",
    "\n",
    "df2.to_csv('word_table.csv', index=False)"
   ]
  }
 ],
 "metadata": {
  "kernelspec": {
   "display_name": "summer",
   "language": "python",
   "name": "summer"
  },
  "language_info": {
   "codemirror_mode": {
    "name": "ipython",
    "version": 3
   },
   "file_extension": ".py",
   "mimetype": "text/x-python",
   "name": "python",
   "nbconvert_exporter": "python",
   "pygments_lexer": "ipython3",
   "version": "3.8.10"
  }
 },
 "nbformat": 4,
 "nbformat_minor": 5
}
